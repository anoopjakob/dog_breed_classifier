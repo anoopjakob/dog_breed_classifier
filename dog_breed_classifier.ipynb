{
  "nbformat": 4,
  "nbformat_minor": 0,
  "metadata": {
    "colab": {
      "name": "dog breed classifier",
      "provenance": [],
      "collapsed_sections": [],
      "mount_file_id": "1p2w27rQksHeNc2LNa0GwleuJe_NXtY1D",
      "authorship_tag": "ABX9TyNyHmFzAY/shuGqfIKJr0Ai",
      "include_colab_link": true
    },
    "kernelspec": {
      "name": "python3",
      "display_name": "Python 3"
    },
    "accelerator": "GPU"
  },
  "cells": [
    {
      "cell_type": "markdown",
      "metadata": {
        "id": "view-in-github",
        "colab_type": "text"
      },
      "source": [
        "<a href=\"https://colab.research.google.com/github/anoopjakob/dog_breed_classifier/blob/master/dog_breed_classifier.ipynb\" target=\"_parent\"><img src=\"https://colab.research.google.com/assets/colab-badge.svg\" alt=\"Open In Colab\"/></a>"
      ]
    },
    {
      "cell_type": "code",
      "metadata": {
        "id": "oasnbCWQm3b8",
        "colab_type": "code",
        "colab": {
          "base_uri": "https://localhost:8080/",
          "height": 35
        },
        "outputId": "12f92ea1-5c13-4c80-90b8-ec4bcc26d77d"
      },
      "source": [
        "cd /content/drive/My Drive/Colab Notebooks/projects"
      ],
      "execution_count": 1,
      "outputs": [
        {
          "output_type": "stream",
          "text": [
            "/content/drive/My Drive/Colab Notebooks/projects\n"
          ],
          "name": "stdout"
        }
      ]
    },
    {
      "cell_type": "code",
      "metadata": {
        "id": "M0PVDCQunUcM",
        "colab_type": "code",
        "colab": {
          "base_uri": "https://localhost:8080/",
          "height": 126
        },
        "outputId": "1f757ccd-7a82-424a-aad9-06caab123c6f"
      },
      "source": [
        "!git clone https://github.com/anoopjakob/dog_breed_classifier.git"
      ],
      "execution_count": 2,
      "outputs": [
        {
          "output_type": "stream",
          "text": [
            "Cloning into 'dog_breed_classifier'...\n",
            "remote: Enumerating objects: 79, done.\u001b[K\n",
            "remote: Counting objects: 100% (79/79), done.\u001b[K\n",
            "remote: Compressing objects: 100% (73/73), done.\u001b[K\n",
            "remote: Total 79 (delta 7), reused 73 (delta 4), pack-reused 0\u001b[K\n",
            "Unpacking objects: 100% (79/79), done.\n"
          ],
          "name": "stdout"
        }
      ]
    },
    {
      "cell_type": "code",
      "metadata": {
        "id": "N4LzjpZ0nUZ7",
        "colab_type": "code",
        "colab": {
          "base_uri": "https://localhost:8080/",
          "height": 35
        },
        "outputId": "510cc696-aad5-46a4-b4b5-17e783bf3ce7"
      },
      "source": [
        "cd dog_breed_classifier//\n"
      ],
      "execution_count": 3,
      "outputs": [
        {
          "output_type": "stream",
          "text": [
            "/content/drive/My Drive/Colab Notebooks/projects/dog_breed_classifier\n"
          ],
          "name": "stdout"
        }
      ]
    },
    {
      "cell_type": "code",
      "metadata": {
        "id": "V2RCU5oinUWQ",
        "colab_type": "code",
        "colab": {
          "base_uri": "https://localhost:8080/",
          "height": 55
        },
        "outputId": "0074a5ee-a812-4019-e7ad-51c8b220064a"
      },
      "source": [
        "cd dog_breed_files/"
      ],
      "execution_count": 4,
      "outputs": [
        {
          "output_type": "stream",
          "text": [
            "/content/drive/My Drive/Colab Notebooks/projects/dog_breed_classifier/dog_breed_files\n"
          ],
          "name": "stdout"
        }
      ]
    },
    {
      "cell_type": "code",
      "metadata": {
        "id": "M_YKFQehnUTh",
        "colab_type": "code",
        "colab": {
          "base_uri": "https://localhost:8080/",
          "height": 162
        },
        "outputId": "0cfc6bf7-5aad-4fd3-a723-fd3f2a3f6b5e"
      },
      "source": [
        "ls"
      ],
      "execution_count": 5,
      "outputs": [
        {
          "output_type": "stream",
          "text": [
            "adjust_results4_isadog.py        \u001b[0m\u001b[01;34mpet_images\u001b[0m/\n",
            "calculates_results_stats.py      print_functions_for_lab_checks.py\n",
            "check_images.py                  print_results.py\n",
            "classify_images.py               run_models_batch.bat\n",
            "dognames.txt                     run_models_batch.sh\n",
            "get_input_args.py                run_models_batch_uploaded.bat\n",
            "get_pet_labels.py                run_models_batch_uploaded.sh\n",
            "imagenet1000_clsid_to_human.txt  \u001b[01;34muploaded_images\u001b[0m/\n"
          ],
          "name": "stdout"
        }
      ]
    },
    {
      "cell_type": "code",
      "metadata": {
        "id": "5jcrEFG1nUPY",
        "colab_type": "code",
        "colab": {
          "base_uri": "https://localhost:8080/",
          "height": 35
        },
        "outputId": "24f8e1e5-36c6-4ed5-f5f4-20fad91ad78d"
      },
      "source": [
        "cd /content/drive/My Drive/Colab Notebooks/projects"
      ],
      "execution_count": 9,
      "outputs": [
        {
          "output_type": "stream",
          "text": [
            "/content/drive/My Drive/Colab Notebooks/projects\n"
          ],
          "name": "stdout"
        }
      ]
    },
    {
      "cell_type": "code",
      "metadata": {
        "id": "pKSoFdAmpQ14",
        "colab_type": "code",
        "colab": {
          "base_uri": "https://localhost:8080/",
          "height": 126
        },
        "outputId": "003b1aa5-8643-4a26-9d1a-00edc5f626b3"
      },
      "source": [
        "!git clone https://github.com/anoopjakob/dog_breed_classifier.git"
      ],
      "execution_count": 10,
      "outputs": [
        {
          "output_type": "stream",
          "text": [
            "Cloning into 'dog_breed_classifier'...\n",
            "remote: Enumerating objects: 80, done.\u001b[K\n",
            "remote: Counting objects: 100% (80/80), done.\u001b[K\n",
            "remote: Compressing objects: 100% (71/71), done.\u001b[K\n",
            "remote: Total 80 (delta 7), reused 80 (delta 7), pack-reused 0\u001b[K\n",
            "Unpacking objects: 100% (80/80), done.\n"
          ],
          "name": "stdout"
        }
      ]
    },
    {
      "cell_type": "code",
      "metadata": {
        "id": "nF-SVc_mpQvY",
        "colab_type": "code",
        "colab": {
          "base_uri": "https://localhost:8080/",
          "height": 35
        },
        "outputId": "a14fd31a-1b58-47dc-fe47-53bae50ba7ec"
      },
      "source": [
        "cd dog_breed_classifier/"
      ],
      "execution_count": 11,
      "outputs": [
        {
          "output_type": "stream",
          "text": [
            "/content/drive/My Drive/Colab Notebooks/projects/dog_breed_classifier\n"
          ],
          "name": "stdout"
        }
      ]
    },
    {
      "cell_type": "code",
      "metadata": {
        "id": "sUXSYefjpQq4",
        "colab_type": "code",
        "colab": {
          "base_uri": "https://localhost:8080/",
          "height": 55
        },
        "outputId": "61944910-ab17-4b56-aa87-d17ffbceb6c1"
      },
      "source": [
        "cd dog_breed_files/"
      ],
      "execution_count": 12,
      "outputs": [
        {
          "output_type": "stream",
          "text": [
            "/content/drive/My Drive/Colab Notebooks/projects/dog_breed_classifier/dog_breed_files\n"
          ],
          "name": "stdout"
        }
      ]
    },
    {
      "cell_type": "code",
      "metadata": {
        "id": "cA1ZtHGepQly",
        "colab_type": "code",
        "colab": {
          "base_uri": "https://localhost:8080/",
          "height": 1000
        },
        "outputId": "54418082-16bb-4719-f962-db12379ab6db"
      },
      "source": [
        "!python check_images.py"
      ],
      "execution_count": 13,
      "outputs": [
        {
          "output_type": "stream",
          "text": [
            "Downloading: \"https://download.pytorch.org/models/resnet18-5c106cde.pth\" to /root/.cache/torch/checkpoints/resnet18-5c106cde.pth\n",
            "100% 44.7M/44.7M [00:00<00:00, 167MB/s]\n",
            "Downloading: \"https://download.pytorch.org/models/alexnet-owt-4df8aa71.pth\" to /root/.cache/torch/checkpoints/alexnet-owt-4df8aa71.pth\n",
            "100% 233M/233M [00:01<00:00, 162MB/s]\n",
            "Downloading: \"https://download.pytorch.org/models/vgg16-397923af.pth\" to /root/.cache/torch/checkpoints/vgg16-397923af.pth\n",
            "100% 528M/528M [00:03<00:00, 166MB/s]\n",
            "Command Line Arguments:\n",
            "     dir = pet_images/ \n",
            "    arch = vgg \n",
            " dogfile = dognames.txt\n",
            "\n",
            "Pet Image Label Dictionary has 40 key-value pairs.\n",
            "Below are 10 of them:\n",
            " 1 key:              Basenji_00963.jpg  label:                    basenji\n",
            " 2 key:              Basenji_00974.jpg  label:                    basenji\n",
            " 3 key:         Basset_hound_01034.jpg  label:               basset hound\n",
            " 4 key:               Beagle_01125.jpg  label:                     beagle\n",
            " 5 key:               Beagle_01141.jpg  label:                     beagle\n",
            " 6 key:               Beagle_01170.jpg  label:                     beagle\n",
            " 7 key:       Boston_terrier_02259.jpg  label:             boston terrier\n",
            " 8 key:       Boston_terrier_02285.jpg  label:             boston terrier\n",
            " 9 key:       Boston_terrier_02303.jpg  label:             boston terrier\n",
            "10 key:                Boxer_02426.jpg  label:                      boxer\n",
            "\n",
            "     MATCH:\n",
            "\n",
            "             Basenji_00963.jpg: \n",
            "Real:                    basenji   Classifier:                        basenji\n",
            "\n",
            "             Basenji_00974.jpg: \n",
            "Real:                    basenji   Classifier:                        basenji\n",
            "\n",
            "        Basset_hound_01034.jpg: \n",
            "Real:               basset hound   Classifier:           basset, basset hound\n",
            "\n",
            "              Beagle_01125.jpg: \n",
            "Real:                     beagle   Classifier:                         beagle\n",
            "\n",
            "              Beagle_01141.jpg: \n",
            "Real:                     beagle   Classifier:                         beagle\n",
            "\n",
            "      Boston_terrier_02259.jpg: \n",
            "Real:             boston terrier   Classifier:    boston bull, boston terrier\n",
            "\n",
            "      Boston_terrier_02285.jpg: \n",
            "Real:             boston terrier   Classifier:    boston bull, boston terrier\n",
            "\n",
            "      Boston_terrier_02303.jpg: \n",
            "Real:             boston terrier   Classifier:    boston bull, boston terrier\n",
            "\n",
            "               Boxer_02426.jpg: \n",
            "Real:                      boxer   Classifier:                          boxer\n",
            "\n",
            "      Cocker_spaniel_03750.jpg: \n",
            "Real:             cocker spaniel   Classifier: cocker spaniel, english cocker spaniel, cocker\n",
            "\n",
            "              Collie_03797.jpg: \n",
            "Real:                     collie   Classifier:                         collie\n",
            "\n",
            "           Dalmatian_04017.jpg: \n",
            "Real:                  dalmatian   Classifier: dalmatian, coach dog, carriage dog\n",
            "\n",
            "           Dalmatian_04037.jpg: \n",
            "Real:                  dalmatian   Classifier: dalmatian, coach dog, carriage dog\n",
            "\n",
            "           Dalmatian_04068.jpg: \n",
            "Real:                  dalmatian   Classifier: dalmatian, coach dog, carriage dog\n",
            "\n",
            " German_shepherd_dog_04890.jpg: \n",
            "Real:        german shepherd dog   Classifier: german shepherd, german shepherd dog, german police dog, alsatian\n",
            "\n",
            " German_shepherd_dog_04931.jpg: \n",
            "Real:        german shepherd dog   Classifier: german shepherd, german shepherd dog, german police dog, alsatian\n",
            "\n",
            "German_shorthaired_pointer_04986.jpg: \n",
            "Real: german shorthaired pointer   Classifier:     german shorthaired pointer\n",
            "\n",
            "    Golden_retriever_05182.jpg: \n",
            "Real:           golden retriever   Classifier:               golden retriever\n",
            "\n",
            "    Golden_retriever_05195.jpg: \n",
            "Real:           golden retriever   Classifier:               golden retriever\n",
            "\n",
            "    Golden_retriever_05223.jpg: \n",
            "Real:           golden retriever   Classifier:               golden retriever\n",
            "\n",
            "    Golden_retriever_05257.jpg: \n",
            "Real:           golden retriever   Classifier:               golden retriever\n",
            "\n",
            "          Great_dane_05320.jpg: \n",
            "Real:                 great dane   Classifier:                     great dane\n",
            "\n",
            "      Great_pyrenees_05435.jpg: \n",
            "Real:             great pyrenees   Classifier:                 great pyrenees\n",
            "\n",
            " Miniature_schnauzer_06884.jpg: \n",
            "Real:        miniature schnauzer   Classifier:            miniature schnauzer\n",
            "\n",
            "              Poodle_07927.jpg: \n",
            "Real:                     poodle   Classifier:        standard poodle, poodle\n",
            "\n",
            "              Poodle_07956.jpg: \n",
            "Real:                     poodle   Classifier:        standard poodle, poodle\n",
            "\n",
            "                Rabbit_002.jpg: \n",
            "Real:                     rabbit   Classifier: wood rabbit, cottontail, cottontail rabbit, rabbit\n",
            "\n",
            "       Saint_bernard_08010.jpg: \n",
            "Real:              saint bernard   Classifier:      saint bernard, st bernard\n",
            "\n",
            "       Saint_bernard_08036.jpg: \n",
            "Real:              saint bernard   Classifier:      saint bernard, st bernard\n",
            "\n",
            "                    cat_02.jpg: \n",
            "Real:                        cat   Classifier:          tabby, tabby cat, cat\n",
            "\n",
            "                    cat_07.jpg: \n",
            "Real:                        cat   Classifier:              egyptian cat, cat\n",
            "\n",
            "           fox_squirrel_01.jpg: \n",
            "Real:               fox squirrel   Classifier: fox squirrel, eastern fox squirrel, sciurus niger\n",
            "\n",
            "                  gecko_02.jpg: \n",
            "Real:                      gecko   Classifier:            banded gecko, gecko\n",
            "\n",
            "             polar_bear_04.jpg: \n",
            "Real:                 polar bear   Classifier: ice bear, polar bear, ursus maritimus, thalarctos maritimus\n",
            "\n",
            "                 skunk_029.jpg: \n",
            "Real:                      skunk   Classifier:     skunk, polecat, wood pussy\n",
            "\n",
            " NOT A MATCH:\n",
            "\n",
            "              Beagle_01170.jpg: \n",
            "Real:                     beagle   Classifier:  walker hound, walker foxhound\n",
            "\n",
            "      Great_pyrenees_05367.jpg: \n",
            "Real:             great pyrenees   Classifier:                         kuvasz\n",
            "\n",
            "                    cat_01.jpg: \n",
            "Real:                        cat   Classifier:                           lynx\n",
            "\n",
            "                  gecko_80.jpg: \n",
            "Real:                      gecko   Classifier: tailed frog, bell toad, ribbed toad, tailed toad, ascaphus trui\n",
            "\n",
            "       great_horned_owl_02.jpg: \n",
            "Real:           great horned owl   Classifier: ruffed grouse, partridge, bonasa umbellus\n",
            "\n",
            "# Total Images 40 # Matches: 35 # NOT Matches: 5\n",
            "\n",
            "     MATCH:\n",
            "\n",
            "             Basenji_00963.jpg: \n",
            "Real:                    basenji   Classifier:                        basenji  \n",
            "PetLabelDog: 1  ClassLabelDog: 1\n",
            "\n",
            "             Basenji_00974.jpg: \n",
            "Real:                    basenji   Classifier:                        basenji  \n",
            "PetLabelDog: 1  ClassLabelDog: 1\n",
            "\n",
            "        Basset_hound_01034.jpg: \n",
            "Real:               basset hound   Classifier:           basset, basset hound  \n",
            "PetLabelDog: 1  ClassLabelDog: 1\n",
            "\n",
            "              Beagle_01125.jpg: \n",
            "Real:                     beagle   Classifier:                         beagle  \n",
            "PetLabelDog: 1  ClassLabelDog: 1\n",
            "\n",
            "              Beagle_01141.jpg: \n",
            "Real:                     beagle   Classifier:                         beagle  \n",
            "PetLabelDog: 1  ClassLabelDog: 1\n",
            "\n",
            "      Boston_terrier_02259.jpg: \n",
            "Real:             boston terrier   Classifier:    boston bull, boston terrier  \n",
            "PetLabelDog: 1  ClassLabelDog: 1\n",
            "\n",
            "      Boston_terrier_02285.jpg: \n",
            "Real:             boston terrier   Classifier:    boston bull, boston terrier  \n",
            "PetLabelDog: 1  ClassLabelDog: 1\n",
            "\n",
            "      Boston_terrier_02303.jpg: \n",
            "Real:             boston terrier   Classifier:    boston bull, boston terrier  \n",
            "PetLabelDog: 1  ClassLabelDog: 1\n",
            "\n",
            "               Boxer_02426.jpg: \n",
            "Real:                      boxer   Classifier:                          boxer  \n",
            "PetLabelDog: 1  ClassLabelDog: 1\n",
            "\n",
            "      Cocker_spaniel_03750.jpg: \n",
            "Real:             cocker spaniel   Classifier: cocker spaniel, english cocker spaniel, cocker  \n",
            "PetLabelDog: 1  ClassLabelDog: 1\n",
            "\n",
            "              Collie_03797.jpg: \n",
            "Real:                     collie   Classifier:                         collie  \n",
            "PetLabelDog: 1  ClassLabelDog: 1\n",
            "\n",
            "           Dalmatian_04017.jpg: \n",
            "Real:                  dalmatian   Classifier: dalmatian, coach dog, carriage dog  \n",
            "PetLabelDog: 1  ClassLabelDog: 1\n",
            "\n",
            "           Dalmatian_04037.jpg: \n",
            "Real:                  dalmatian   Classifier: dalmatian, coach dog, carriage dog  \n",
            "PetLabelDog: 1  ClassLabelDog: 1\n",
            "\n",
            "           Dalmatian_04068.jpg: \n",
            "Real:                  dalmatian   Classifier: dalmatian, coach dog, carriage dog  \n",
            "PetLabelDog: 1  ClassLabelDog: 1\n",
            "\n",
            " German_shepherd_dog_04890.jpg: \n",
            "Real:        german shepherd dog   Classifier: german shepherd, german shepherd dog, german police dog, alsatian  \n",
            "PetLabelDog: 1  ClassLabelDog: 1\n",
            "\n",
            " German_shepherd_dog_04931.jpg: \n",
            "Real:        german shepherd dog   Classifier: german shepherd, german shepherd dog, german police dog, alsatian  \n",
            "PetLabelDog: 1  ClassLabelDog: 1\n",
            "\n",
            "German_shorthaired_pointer_04986.jpg: \n",
            "Real: german shorthaired pointer   Classifier:     german shorthaired pointer  \n",
            "PetLabelDog: 1  ClassLabelDog: 1\n",
            "\n",
            "    Golden_retriever_05182.jpg: \n",
            "Real:           golden retriever   Classifier:               golden retriever  \n",
            "PetLabelDog: 1  ClassLabelDog: 1\n",
            "\n",
            "    Golden_retriever_05195.jpg: \n",
            "Real:           golden retriever   Classifier:               golden retriever  \n",
            "PetLabelDog: 1  ClassLabelDog: 1\n",
            "\n",
            "    Golden_retriever_05223.jpg: \n",
            "Real:           golden retriever   Classifier:               golden retriever  \n",
            "PetLabelDog: 1  ClassLabelDog: 1\n",
            "\n",
            "    Golden_retriever_05257.jpg: \n",
            "Real:           golden retriever   Classifier:               golden retriever  \n",
            "PetLabelDog: 1  ClassLabelDog: 1\n",
            "\n",
            "          Great_dane_05320.jpg: \n",
            "Real:                 great dane   Classifier:                     great dane  \n",
            "PetLabelDog: 1  ClassLabelDog: 1\n",
            "\n",
            "      Great_pyrenees_05435.jpg: \n",
            "Real:             great pyrenees   Classifier:                 great pyrenees  \n",
            "PetLabelDog: 1  ClassLabelDog: 1\n",
            "\n",
            " Miniature_schnauzer_06884.jpg: \n",
            "Real:        miniature schnauzer   Classifier:            miniature schnauzer  \n",
            "PetLabelDog: 1  ClassLabelDog: 1\n",
            "\n",
            "              Poodle_07927.jpg: \n",
            "Real:                     poodle   Classifier:        standard poodle, poodle  \n",
            "PetLabelDog: 1  ClassLabelDog: 1\n",
            "\n",
            "              Poodle_07956.jpg: \n",
            "Real:                     poodle   Classifier:        standard poodle, poodle  \n",
            "PetLabelDog: 1  ClassLabelDog: 1\n",
            "\n",
            "                Rabbit_002.jpg: \n",
            "Real:                     rabbit   Classifier: wood rabbit, cottontail, cottontail rabbit, rabbit  \n",
            "PetLabelDog: 0  ClassLabelDog: 0\n",
            "\n",
            "       Saint_bernard_08010.jpg: \n",
            "Real:              saint bernard   Classifier:      saint bernard, st bernard  \n",
            "PetLabelDog: 1  ClassLabelDog: 1\n",
            "\n",
            "       Saint_bernard_08036.jpg: \n",
            "Real:              saint bernard   Classifier:      saint bernard, st bernard  \n",
            "PetLabelDog: 1  ClassLabelDog: 1\n",
            "\n",
            "                    cat_02.jpg: \n",
            "Real:                        cat   Classifier:          tabby, tabby cat, cat  \n",
            "PetLabelDog: 0  ClassLabelDog: 0\n",
            "\n",
            "                    cat_07.jpg: \n",
            "Real:                        cat   Classifier:              egyptian cat, cat  \n",
            "PetLabelDog: 0  ClassLabelDog: 0\n",
            "\n",
            "           fox_squirrel_01.jpg: \n",
            "Real:               fox squirrel   Classifier: fox squirrel, eastern fox squirrel, sciurus niger  \n",
            "PetLabelDog: 0  ClassLabelDog: 0\n",
            "\n",
            "                  gecko_02.jpg: \n",
            "Real:                      gecko   Classifier:            banded gecko, gecko  \n",
            "PetLabelDog: 0  ClassLabelDog: 0\n",
            "\n",
            "             polar_bear_04.jpg: \n",
            "Real:                 polar bear   Classifier: ice bear, polar bear, ursus maritimus, thalarctos maritimus  \n",
            "PetLabelDog: 0  ClassLabelDog: 0\n",
            "\n",
            "                 skunk_029.jpg: \n",
            "Real:                      skunk   Classifier:     skunk, polecat, wood pussy  \n",
            "PetLabelDog: 0  ClassLabelDog: 0\n",
            "\n",
            " NOT A MATCH:\n",
            "\n",
            "              Beagle_01170.jpg: \n",
            "Real:                     beagle   Classifier:  walker hound, walker foxhound  \n",
            "PetLabelDog: 1  ClassLabelDog: 1\n",
            "\n",
            "      Great_pyrenees_05367.jpg: \n",
            "Real:             great pyrenees   Classifier:                         kuvasz  \n",
            "PetLabelDog: 1  ClassLabelDog: 1\n",
            "\n",
            "                    cat_01.jpg: \n",
            "Real:                        cat   Classifier:                           lynx  \n",
            "PetLabelDog: 0  ClassLabelDog: 0\n",
            "\n",
            "                  gecko_80.jpg: \n",
            "Real:                      gecko   Classifier: tailed frog, bell toad, ribbed toad, tailed toad, ascaphus trui  \n",
            "PetLabelDog: 0  ClassLabelDog: 0\n",
            "\n",
            "       great_horned_owl_02.jpg: \n",
            "Real:           great horned owl   Classifier: ruffed grouse, partridge, bonasa umbellus  \n",
            "PetLabelDog: 0  ClassLabelDog: 0\n",
            "\n",
            "# Total Images 40 # Matches: 35 # NOT Matches: 5\n",
            "\n",
            " ** Statistics from calculates_results_stats() function:\n",
            "N Images: 40  N Dog Images: 30  N NotDog Images: 10 \n",
            "Pct Corr dog: 100.0 Pct Corr NOTdog: 100.0  Pct Corr Breed:  93.3\n",
            "\n",
            " ** Check Statistics - calculated from this function as a check:\n",
            "N Images: 40  N Dog Images: 30  N NotDog Images: 10 \n",
            "Pct Corr dog: 100.0 Pct Corr NOTdog: 100.0  Pct Corr Breed:  93.3\n",
            "Results for architecture: vgg\n",
            "-------------------------------\n",
            "Number of Images: 40\n",
            "Number of Dog Images: 30\n",
            "Number of \"Not-a\" Dog Image: 10\n",
            "pct_correct_dogs: 100.0\n",
            "pct_correct_breed: 93.33333333333333\n",
            "pct_correct_notdogs: 100.0\n",
            "pct_match: 87.5\n",
            "Image Beagle_01170.jpg classified incorrectly as walker hound, walker foxhound\n",
            "Image Great_pyrenees_05367.jpg classified incorrectly as kuvasz\n",
            "\n",
            "** Total Elapsed Runtime: 0:0:24\n",
            "\n",
            "\n",
            "****** FINAL RESULTS *******\n",
            "\n",
            "\n",
            "Architecture       ~Dog          Dog       Breed       Label\n",
            "vgg                100.00       100.00     93.33       87.50\n",
            "\n",
            "\n",
            "*******************************\n"
          ],
          "name": "stdout"
        }
      ]
    }
  ]
}